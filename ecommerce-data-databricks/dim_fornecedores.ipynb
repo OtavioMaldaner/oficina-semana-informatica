{
 "cells": [
  {
   "cell_type": "markdown",
   "metadata": {
    "application/vnd.databricks.v1+cell": {
     "cellMetadata": {
      "byteLimit": 2048000,
      "rowLimit": 10000
     },
     "inputWidgets": {},
     "nuid": "40344af0-cc1d-4aaf-8bb0-d76f5f922a3a",
     "showTitle": false,
     "tableResultSettingsMap": {},
     "title": ""
    },
    "id": "HVhkrAmSNiWc"
   },
   "source": [
    "# dim_forneceedores\n",
    "\n",
    "Esse notebook é responsável por reunir todas as informações úteis de cada fornecedor do e-commerce\n"
   ]
  },
  {
   "cell_type": "markdown",
   "metadata": {
    "application/vnd.databricks.v1+cell": {
     "cellMetadata": {
      "byteLimit": 2048000,
      "rowLimit": 10000
     },
     "inputWidgets": {},
     "nuid": "0b010be5-81ed-4eaa-aea0-d91520c858bc",
     "showTitle": false,
     "tableResultSettingsMap": {},
     "title": ""
    },
    "id": "XQmlR01LOk57"
   },
   "source": [
    "## Configurações Iniciais"
   ]
  },
  {
   "cell_type": "markdown",
   "metadata": {
    "application/vnd.databricks.v1+cell": {
     "cellMetadata": {
      "byteLimit": 2048000,
      "rowLimit": 10000
     },
     "inputWidgets": {},
     "nuid": "a99f3f40-3389-4a95-bec6-8f3fc1e2b8c1",
     "showTitle": false,
     "tableResultSettingsMap": {},
     "title": ""
    },
    "id": "m78YU_1POfCW"
   },
   "source": [
    "### Importando as Bibliotecas\n"
   ]
  },
  {
   "cell_type": "code",
   "execution_count": 0,
   "metadata": {
    "application/vnd.databricks.v1+cell": {
     "cellMetadata": {
      "byteLimit": 2048000,
      "rowLimit": 10000
     },
     "inputWidgets": {},
     "nuid": "f81a8245-dd54-4f35-9789-bf10018da49b",
     "showTitle": false,
     "tableResultSettingsMap": {},
     "title": ""
    },
    "executionInfo": {
     "elapsed": 1,
     "status": "ok",
     "timestamp": 1754234231899,
     "user": {
      "displayName": "Otávio Maldaner",
      "userId": "03427891421355464378"
     },
     "user_tz": 180
    },
    "id": "-898edcyOOtB"
   },
   "outputs": [],
   "source": [
    "from pyspark.sql import functions as F"
   ]
  },
  {
   "cell_type": "markdown",
   "metadata": {
    "application/vnd.databricks.v1+cell": {
     "cellMetadata": {
      "byteLimit": 2048000,
      "rowLimit": 10000
     },
     "inputWidgets": {},
     "nuid": "7e5b4ca1-93e0-4795-a5c5-8754e4501276",
     "showTitle": false,
     "tableResultSettingsMap": {},
     "title": ""
    },
    "id": "Kyai-hp6OwsM"
   },
   "source": [
    "### Carregando os Dados"
   ]
  },
  {
   "cell_type": "code",
   "execution_count": 0,
   "metadata": {
    "application/vnd.databricks.v1+cell": {
     "cellMetadata": {
      "byteLimit": 2048000,
      "rowLimit": 10000
     },
     "inputWidgets": {},
     "nuid": "d13112a9-ab2a-42d0-b9b4-f10f78101f59",
     "showTitle": false,
     "tableResultSettingsMap": {},
     "title": ""
    },
    "executionInfo": {
     "elapsed": 533,
     "status": "ok",
     "timestamp": 1754234267199,
     "user": {
      "displayName": "Otávio Maldaner",
      "userId": "03427891421355464378"
     },
     "user_tz": 180
    },
    "id": "n7qie1lXOSfA"
   },
   "outputs": [],
   "source": [
    "df_sellers = (\n",
    "    spark.read.csv(\n",
    "        \"/Volumes/workspace/default/e_commerce/olist_sellers_dataset.csv\",\n",
    "        header=True,\n",
    "        inferSchema=True\n",
    "    )\n",
    "    .drop(\"seller_city\", \"seller_state\")\n",
    ")"
   ]
  },
  {
   "cell_type": "markdown",
   "metadata": {
    "application/vnd.databricks.v1+cell": {
     "cellMetadata": {},
     "inputWidgets": {},
     "nuid": "a97bef1d-6204-4812-86a8-995b2a1ad9ee",
     "showTitle": false,
     "tableResultSettingsMap": {},
     "title": ""
    },
    "id": "xPMbzB_hVvGv"
   },
   "source": [
    "## Salvamento dos Dados"
   ]
  },
  {
   "cell_type": "code",
   "execution_count": 0,
   "metadata": {
    "application/vnd.databricks.v1+cell": {
     "cellMetadata": {},
     "inputWidgets": {},
     "nuid": "765b79d2-8533-44aa-ac70-1be5c03172ff",
     "showTitle": false,
     "tableResultSettingsMap": {},
     "title": ""
    },
    "id": "GEwgh1f8Vwbe"
   },
   "outputs": [],
   "source": [
    "%sql\n",
    "CREATE TABLE IF NOT EXISTS ifrs_dev_ecommerce.gold.dim_fornecedores (\n",
    "    seller_id STRING PRIMARY KEY COMMENT \"ID do fornecedor\",\n",
    "    seller_zip_code_prefix INT COMMENT \"Prefixo do CEP do fornecedor\",\n",
    "    seller_name STRING COMMENT \"Nome do fornecedor\",\n",
    "    CONSTRAINT fk_geolocalizacao_sellers FOREIGN KEY (seller_zip_code_prefix)\n",
    "        REFERENCES ifrs_dev_ecommerce.gold.dim_geolocalizacao(geolocation_zip_code_prefix)\n",
    ")\n",
    "USING DELTA\n",
    "CLUSTER BY (seller_id, seller_zip_code_prefix)\n",
    "TBLPROPERTIES (\"quality\"=\"gold\", \"layer\"=\"data-engineering\")\n",
    "COMMENT \"Dimensão de fornecedores contendo informações de identificação e localização.\";\n",
    "\n",
    "-- Adicionando tags à tabela\n",
    "ALTER TABLE ifrs_dev_ecommerce.gold.dim_fornecedores SET TAGS (\"quality\"=\"gold\", \"layer\"=\"data-engineering\");"
   ]
  },
  {
   "cell_type": "code",
   "execution_count": 0,
   "metadata": {
    "application/vnd.databricks.v1+cell": {
     "cellMetadata": {},
     "inputWidgets": {},
     "nuid": "79cae87b-5215-4535-a2c6-b8c157cb9c65",
     "showTitle": false,
     "tableResultSettingsMap": {},
     "title": ""
    }
   },
   "outputs": [],
   "source": [
    "(\n",
    "    df_sellers\n",
    "    .write.mode(\"overwrite\")\n",
    "    .format(\"delta\")\n",
    "    .saveAsTable(\"ifrs_dev_ecommerce.gold.dim_fornecedores\")\n",
    ")"
   ]
  }
 ],
 "metadata": {
  "application/vnd.databricks.v1+notebook": {
   "computePreferences": null,
   "dashboards": [],
   "environmentMetadata": null,
   "inputWidgetPreferences": null,
   "language": "python",
   "notebookMetadata": {
    "pythonIndentUnit": 4
   },
   "notebookName": "dim_fornecedores",
   "widgets": {}
  },
  "colab": {
   "authorship_tag": "ABX9TyOtenfl1zVSW5NDvMEzZqx5",
   "provenance": []
  },
  "kernelspec": {
   "display_name": "Python 3",
   "name": "python3"
  },
  "language_info": {
   "name": "python"
  }
 },
 "nbformat": 4,
 "nbformat_minor": 0
}
