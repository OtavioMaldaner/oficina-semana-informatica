{
 "cells": [
  {
   "cell_type": "markdown",
   "metadata": {
    "application/vnd.databricks.v1+cell": {
     "cellMetadata": {
      "byteLimit": 2048000,
      "rowLimit": 10000
     },
     "inputWidgets": {},
     "nuid": "f9bd726d-e487-4cfb-b781-1814ed8d234c",
     "showTitle": false,
     "tableResultSettingsMap": {},
     "title": ""
    },
    "id": "sRCVPUgPCDyz"
   },
   "source": [
    "# dim_produtos\n",
    "\n",
    "Esse notebook é responsável por criar uma tabela com as informações básicas dos produtos do e-commerce.\n"
   ]
  },
  {
   "cell_type": "markdown",
   "metadata": {
    "application/vnd.databricks.v1+cell": {
     "cellMetadata": {
      "byteLimit": 2048000,
      "rowLimit": 10000
     },
     "inputWidgets": {},
     "nuid": "701d05fa-34a3-4283-9b89-d26dcaa544c7",
     "showTitle": false,
     "tableResultSettingsMap": {},
     "title": ""
    },
    "id": "delPYogbCmhN"
   },
   "source": [
    "## Configurações Iniciais"
   ]
  },
  {
   "cell_type": "markdown",
   "metadata": {
    "application/vnd.databricks.v1+cell": {
     "cellMetadata": {
      "byteLimit": 2048000,
      "rowLimit": 10000
     },
     "inputWidgets": {},
     "nuid": "281846f0-020d-4ed6-a1ee-1c3c9ba08744",
     "showTitle": false,
     "tableResultSettingsMap": {},
     "title": ""
    },
    "id": "zwa6n7yyC_Tz"
   },
   "source": [
    "### Importando as Bibliotecas"
   ]
  },
  {
   "cell_type": "code",
   "execution_count": 0,
   "metadata": {
    "application/vnd.databricks.v1+cell": {
     "cellMetadata": {
      "byteLimit": 2048000,
      "rowLimit": 10000
     },
     "inputWidgets": {},
     "nuid": "903a12b0-9a95-41ea-a5a6-f2b65566b8b5",
     "showTitle": false,
     "tableResultSettingsMap": {},
     "title": ""
    },
    "executionInfo": {
     "elapsed": 8,
     "status": "ok",
     "timestamp": 1754228139780,
     "user": {
      "displayName": "Otávio Maldaner",
      "userId": "03427891421355464378"
     },
     "user_tz": 180
    },
    "id": "NQmrmaqKC7h7"
   },
   "outputs": [],
   "source": [
    "from pyspark.sql import functions as F"
   ]
  },
  {
   "cell_type": "markdown",
   "metadata": {
    "application/vnd.databricks.v1+cell": {
     "cellMetadata": {
      "byteLimit": 2048000,
      "rowLimit": 10000
     },
     "inputWidgets": {},
     "nuid": "93d37cdd-52ca-48fc-909e-aae7588a907c",
     "showTitle": false,
     "tableResultSettingsMap": {},
     "title": ""
    },
    "id": "nmCwwQYkDD8g"
   },
   "source": [
    "### Carregando os Dados"
   ]
  },
  {
   "cell_type": "code",
   "execution_count": 0,
   "metadata": {
    "application/vnd.databricks.v1+cell": {
     "cellMetadata": {
      "byteLimit": 2048000,
      "rowLimit": 10000
     },
     "inputWidgets": {},
     "nuid": "6a742d0f-6378-4e16-b5e5-28cc4f4ecb53",
     "showTitle": false,
     "tableResultSettingsMap": {},
     "title": ""
    },
    "executionInfo": {
     "elapsed": 644,
     "status": "ok",
     "timestamp": 1754228140427,
     "user": {
      "displayName": "Otávio Maldaner",
      "userId": "03427891421355464378"
     },
     "user_tz": 180
    },
    "id": "yg72ehHxDCPz"
   },
   "outputs": [],
   "source": [
    "df_products_dataset = (\n",
    "    spark.read.csv(\n",
    "        \"/Volumes/workspace/default/e_commerce/olist_products_dataset.csv\",\n",
    "        header=True,\n",
    "        inferSchema=True\n",
    "    )\n",
    "    .withColumn(\n",
    "        \"product_category_name\",\n",
    "        F.regexp_replace(\n",
    "           F.upper(F.col(\"product_category_name\")),\n",
    "           \"_\",\n",
    "           \" \"\n",
    "       )\n",
    "    )\n",
    ")"
   ]
  },
  {
   "cell_type": "markdown",
   "metadata": {
    "application/vnd.databricks.v1+cell": {
     "cellMetadata": {
      "byteLimit": 2048000,
      "rowLimit": 10000
     },
     "inputWidgets": {},
     "nuid": "a84fbc4a-6263-4e8c-a779-7901238e2686",
     "showTitle": false,
     "tableResultSettingsMap": {},
     "title": ""
    },
    "id": "fLnSzYC9H5ak"
   },
   "source": [
    "## Transformação dos Dados"
   ]
  },
  {
   "cell_type": "code",
   "execution_count": 0,
   "metadata": {
    "application/vnd.databricks.v1+cell": {
     "cellMetadata": {
      "byteLimit": 2048000,
      "rowLimit": 10000
     },
     "inputWidgets": {},
     "nuid": "5b39a6fb-4272-44d8-bab4-2f3f64c16c55",
     "showTitle": false,
     "tableResultSettingsMap": {},
     "title": ""
    }
   },
   "outputs": [],
   "source": [
    "df_conversions = (\n",
    "    df_products_dataset\n",
    "    .withColumn(\n",
    "        \"product_weight_kg\",\n",
    "        F.col(\"product_weight_g\") / 1000\n",
    "    )\n",
    "    .withColumn(\n",
    "        \"product_length_m\",\n",
    "        F.col(\"product_length_cm\") / 100\n",
    "    )\n",
    "    .withColumn(\n",
    "        \"product_height_m\",\n",
    "        F.col(\"product_height_cm\") / 100\n",
    "    )\n",
    "    .withColumn(\n",
    "        \"product_width_m\",\n",
    "        F.col(\"product_width_cm\") / 100\n",
    "    )\n",
    ")"
   ]
  },
  {
   "cell_type": "code",
   "execution_count": 0,
   "metadata": {
    "application/vnd.databricks.v1+cell": {
     "cellMetadata": {
      "byteLimit": 2048000,
      "rowLimit": 10000
     },
     "inputWidgets": {},
     "nuid": "c4128ea8-201b-4ce5-a1c6-bf87bfebce4f",
     "showTitle": false,
     "tableResultSettingsMap": {},
     "title": ""
    },
    "executionInfo": {
     "elapsed": 39,
     "status": "ok",
     "timestamp": 1754228140477,
     "user": {
      "displayName": "Otávio Maldaner",
      "userId": "03427891421355464378"
     },
     "user_tz": 180
    },
    "id": "w7x0UV2zH7fL"
   },
   "outputs": [],
   "source": [
    "df_final_products_dataset = (\n",
    "    df_conversions\n",
    "    .withColumn(\n",
    "        \"product_volume\",\n",
    "        F.col(\"product_length_m\")\n",
    "        * F.col(\"product_height_m\")\n",
    "        * F.col(\"product_width_m\")\n",
    "    )\n",
    "    .select(\n",
    "        \"product_id\",\n",
    "        \"product_category_name\",\n",
    "        \"product_weight_kg\",\n",
    "        \"product_length_m\",\n",
    "        \"product_height_m\",\n",
    "        \"product_width_m\",\n",
    "        \"product_volume\"\n",
    "    )\n",
    ")"
   ]
  },
  {
   "cell_type": "markdown",
   "metadata": {
    "application/vnd.databricks.v1+cell": {
     "cellMetadata": {},
     "inputWidgets": {},
     "nuid": "1255010b-b532-4059-9212-6b03607c1e2d",
     "showTitle": false,
     "tableResultSettingsMap": {},
     "title": ""
    },
    "id": "6lhoSC0IEBdX"
   },
   "source": [
    "## Salvamento dos Dados"
   ]
  },
  {
   "cell_type": "code",
   "execution_count": 0,
   "metadata": {
    "application/vnd.databricks.v1+cell": {
     "cellMetadata": {},
     "inputWidgets": {},
     "nuid": "d405e0fd-b391-4823-8e15-3a98fb4f7565",
     "showTitle": false,
     "tableResultSettingsMap": {},
     "title": ""
    },
    "executionInfo": {
     "elapsed": 2600,
     "status": "ok",
     "timestamp": 1754228143079,
     "user": {
      "displayName": "Otávio Maldaner",
      "userId": "03427891421355464378"
     },
     "user_tz": 180
    },
    "id": "4h6UAsYuEDJh"
   },
   "outputs": [],
   "source": [
    "%sql\n",
    "CREATE TABLE IF NOT EXISTS ifrs_dev_ecommerce.gold.dim_produtos (\n",
    "    product_id STRING PRIMARY KEY COMMENT \"ID do produto\",\n",
    "    product_category_name STRING COMMENT \"Nome da categoria do produto\",\n",
    "    product_weight_kg DOUBLE COMMENT \"Peso do produto (kg)\",\n",
    "    product_length_m DOUBLE COMMENT \"Comprimento do produto (m)\",\n",
    "    product_height_m DOUBLE COMMENT \"Altura do produto (m)\",\n",
    "    product_width_m DOUBLE COMMENT \"Largura do produto (m)\",\n",
    "    product_volume DOUBLE COMMENT \"Volume do produto\"\n",
    ")\n",
    "USING DELTA\n",
    "CLUSTER BY (product_id, product_category_name)\n",
    "TBLPROPERTIES (\"quality\"=\"gold\", \"layer\"=\"data-engineering\")\n",
    "COMMENT \"Dimensão de produtos contendo informações de identificação, categoria e medidas.\";\n",
    "\n",
    "-- Adicionando tags à tabela\n",
    "ALTER TABLE ifrs_dev_ecommerce.gold.dim_produtos SET TAGS (\"quality\"=\"gold\", \"layer\"=\"data-engineering\");"
   ]
  },
  {
   "cell_type": "code",
   "execution_count": 0,
   "metadata": {
    "application/vnd.databricks.v1+cell": {
     "cellMetadata": {},
     "inputWidgets": {},
     "nuid": "74eb0473-294e-485f-b4ae-afe916ef462a",
     "showTitle": false,
     "tableResultSettingsMap": {},
     "title": ""
    }
   },
   "outputs": [],
   "source": [
    "(\n",
    "    df_final_products_dataset\n",
    "    .write.mode(\"overwrite\")\n",
    "    .format(\"delta\")\n",
    "    .saveAsTable(\"ifrs_dev_ecommerce.gold.dim_produtos\")\n",
    ")"
   ]
  }
 ],
 "metadata": {
  "application/vnd.databricks.v1+notebook": {
   "computePreferences": null,
   "dashboards": [],
   "environmentMetadata": null,
   "inputWidgetPreferences": null,
   "language": "python",
   "notebookMetadata": {
    "pythonIndentUnit": 4
   },
   "notebookName": "dim_produtos",
   "widgets": {}
  },
  "colab": {
   "authorship_tag": "ABX9TyPvlE2fs91c4t/mXb1BMz+d",
   "provenance": []
  },
  "kernelspec": {
   "display_name": "Python 3",
   "name": "python3"
  },
  "language_info": {
   "name": "python"
  }
 },
 "nbformat": 4,
 "nbformat_minor": 0
}
