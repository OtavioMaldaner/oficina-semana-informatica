{
 "cells": [
  {
   "cell_type": "markdown",
   "metadata": {
    "application/vnd.databricks.v1+cell": {
     "cellMetadata": {
      "batchId": -1439109040418681,
      "byteLimit": 2048000,
      "rowLimit": 10000
     },
     "inputWidgets": {},
     "nuid": "a9a219ce-4d65-4e98-bca9-729862304952",
     "showTitle": false,
     "tableResultSettingsMap": {},
     "title": ""
    },
    "id": "sRCVPUgPCDyz"
   },
   "source": [
    "# dim_geolocalizacao\n",
    "\n",
    "Esse notebook é responsável por criar uma tabela com as informações básicas das localizações.\n"
   ]
  },
  {
   "cell_type": "markdown",
   "metadata": {
    "application/vnd.databricks.v1+cell": {
     "cellMetadata": {
      "batchId": -1439109040418681,
      "byteLimit": 2048000,
      "rowLimit": 10000
     },
     "inputWidgets": {},
     "nuid": "da4ae5a3-6682-421a-8929-3054d9a114e6",
     "showTitle": false,
     "tableResultSettingsMap": {},
     "title": ""
    },
    "id": "delPYogbCmhN"
   },
   "source": [
    "## Configurações Iniciais"
   ]
  },
  {
   "cell_type": "markdown",
   "metadata": {
    "application/vnd.databricks.v1+cell": {
     "cellMetadata": {
      "batchId": -1439109040418681,
      "byteLimit": 2048000,
      "rowLimit": 10000
     },
     "inputWidgets": {},
     "nuid": "32af67f6-8aec-46e0-adc4-d050420275e9",
     "showTitle": false,
     "tableResultSettingsMap": {},
     "title": ""
    },
    "id": "zwa6n7yyC_Tz"
   },
   "source": [
    "### Importando as Bibliotecas"
   ]
  },
  {
   "cell_type": "code",
   "execution_count": 0,
   "metadata": {
    "application/vnd.databricks.v1+cell": {
     "cellMetadata": {
      "byteLimit": 2048000,
      "rowLimit": 10000
     },
     "inputWidgets": {},
     "nuid": "9d191d36-1db4-41e6-a72a-a3d0dc43c976",
     "showTitle": false,
     "tableResultSettingsMap": {},
     "title": ""
    },
    "executionInfo": {
     "elapsed": 6,
     "status": "ok",
     "timestamp": 1754229437996,
     "user": {
      "displayName": "Otávio Maldaner",
      "userId": "03427891421355464378"
     },
     "user_tz": 180
    },
    "id": "NQmrmaqKC7h7"
   },
   "outputs": [],
   "source": [
    "from pyspark.sql import functions as F"
   ]
  },
  {
   "cell_type": "markdown",
   "metadata": {
    "application/vnd.databricks.v1+cell": {
     "cellMetadata": {
      "batchId": -1439109040418681,
      "byteLimit": 2048000,
      "rowLimit": 10000
     },
     "inputWidgets": {},
     "nuid": "e649b4b5-bd5a-4b2b-89ea-cd6a74bad964",
     "showTitle": false,
     "tableResultSettingsMap": {},
     "title": ""
    },
    "id": "nmCwwQYkDD8g"
   },
   "source": [
    "### Carregando os Dados"
   ]
  },
  {
   "cell_type": "code",
   "execution_count": 0,
   "metadata": {
    "application/vnd.databricks.v1+cell": {
     "cellMetadata": {
      "byteLimit": 2048000,
      "rowLimit": 10000
     },
     "inputWidgets": {},
     "nuid": "4dd213c3-bf70-4587-a3c0-881935191825",
     "showTitle": false,
     "tableResultSettingsMap": {},
     "title": ""
    },
    "executionInfo": {
     "elapsed": 2680,
     "status": "ok",
     "timestamp": 1754229608929,
     "user": {
      "displayName": "Otávio Maldaner",
      "userId": "03427891421355464378"
     },
     "user_tz": 180
    },
    "id": "yg72ehHxDCPz"
   },
   "outputs": [],
   "source": [
    "df_geolocation_dataset = (\n",
    "    spark.read.csv(\n",
    "        \"/Volumes/workspace/default/e_commerce/olist_geolocation_dataset.csv\",\n",
    "        header=True,\n",
    "        inferSchema=True\n",
    "    )\n",
    ")"
   ]
  },
  {
   "cell_type": "markdown",
   "metadata": {
    "application/vnd.databricks.v1+cell": {
     "cellMetadata": {
      "batchId": -1439109040418681,
      "byteLimit": 2048000,
      "rowLimit": 10000
     },
     "inputWidgets": {},
     "nuid": "cbc268d5-a815-42bf-bc11-71a015a0d666",
     "showTitle": false,
     "tableResultSettingsMap": {},
     "title": ""
    },
    "id": "srjE8EnQOvsS"
   },
   "source": [
    "## Transformação dos Dados"
   ]
  },
  {
   "cell_type": "code",
   "execution_count": 0,
   "metadata": {
    "application/vnd.databricks.v1+cell": {
     "cellMetadata": {
      "byteLimit": 2048000,
      "rowLimit": 10000
     },
     "inputWidgets": {},
     "nuid": "11f2a0c7-8323-4b15-bcae-56dcf915d2a7",
     "showTitle": false,
     "tableResultSettingsMap": {},
     "title": ""
    },
    "executionInfo": {
     "elapsed": 83,
     "status": "ok",
     "timestamp": 1754229609014,
     "user": {
      "displayName": "Otávio Maldaner",
      "userId": "03427891421355464378"
     },
     "user_tz": 180
    },
    "id": "nnIPL5UYOxwW"
   },
   "outputs": [],
   "source": [
    "df_final_geolocation_dataset = (\n",
    "    df_geolocation_dataset\n",
    "    .withColumn(\n",
    "        \"geolocation_country\",\n",
    "        F.lit(\"BR\")\n",
    "    )\n",
    "    .withColumn(\n",
    "        \"geolocation_city\",\n",
    "        F.upper(F.col(\"geolocation_city\"))\n",
    "    )\n",
    "    .withColumn(\n",
    "        \"geolocation_city_state\",\n",
    "        F.concat_ws(\n",
    "            \" - \",\n",
    "            F.col(\"geolocation_city\"),\n",
    "            F.col(\"geolocation_state\")\n",
    "        )\n",
    "    )\n",
    ")"
   ]
  },
  {
   "cell_type": "markdown",
   "metadata": {
    "application/vnd.databricks.v1+cell": {
     "cellMetadata": {},
     "inputWidgets": {},
     "nuid": "047a1fd4-6955-4d09-982e-e5153c6d2612",
     "showTitle": false,
     "tableResultSettingsMap": {},
     "title": ""
    },
    "id": "6lhoSC0IEBdX"
   },
   "source": [
    "## Salvamento dos Dados"
   ]
  },
  {
   "cell_type": "code",
   "execution_count": 0,
   "metadata": {
    "application/vnd.databricks.v1+cell": {
     "cellMetadata": {},
     "inputWidgets": {},
     "nuid": "904b3d19-6021-456b-856d-b99943d18350",
     "showTitle": false,
     "tableResultSettingsMap": {},
     "title": ""
    },
    "id": "4h6UAsYuEDJh"
   },
   "outputs": [],
   "source": [
    "%sql\n",
    "CREATE TABLE IF NOT EXISTS ifrs_dev_ecommerce.gold.dim_geolocalizacao (\n",
    "    geolocation_zip_code_prefix INT PRIMARY KEY COMMENT \"Prefixo do CEP da geolocalização\",\n",
    "    geolocation_city STRING COMMENT \"Cidade da geolocalização\",\n",
    "    geolocation_state STRING COMMENT \"Estado da geolocalização\",\n",
    "    geolocation_country STRING COMMENT \"País da geolocalização\",\n",
    "    geolocation_city_state STRING COMMENT \"Cidade e estado da geolocalização\"\n",
    ")\n",
    "USING DELTA\n",
    "CLUSTER BY (geolocation_zip_code_prefix, geolocation_city_state)\n",
    "TBLPROPERTIES (\"quality\"=\"gold\", \"layer\"=\"data-engineering\")\n",
    "COMMENT \"Dimensão de geolocalização contendo informações de localização.\";\n",
    "\n",
    "-- Adicionando tags à tabela\n",
    "ALTER TABLE ifrs_dev_ecommerce.gold.dim_geolocalizacao SET TAGS (\"quality\"=\"gold\", \"layer\"=\"data-engineering\");"
   ]
  },
  {
   "cell_type": "code",
   "execution_count": 0,
   "metadata": {
    "application/vnd.databricks.v1+cell": {
     "cellMetadata": {},
     "inputWidgets": {},
     "nuid": "7687da72-6438-4306-ad8b-57b0f82c4e04",
     "showTitle": false,
     "tableResultSettingsMap": {},
     "title": ""
    }
   },
   "outputs": [],
   "source": [
    "(\n",
    "    df_final_geolocation_dataset\n",
    "    .write.mode(\"overwrite\")\n",
    "    .format(\"delta\")\n",
    "    .saveAsTable(\"ifrs_dev_ecommerce.gold.dim_geolocalizacao\")\n",
    ")"
   ]
  }
 ],
 "metadata": {
  "application/vnd.databricks.v1+notebook": {
   "computePreferences": null,
   "dashboards": [],
   "environmentMetadata": null,
   "inputWidgetPreferences": null,
   "language": "python",
   "notebookMetadata": {
    "pythonIndentUnit": 4
   },
   "notebookName": "dim_geolocalizacao",
   "widgets": {}
  },
  "colab": {
   "authorship_tag": "ABX9TyOi9+Md5brF+nyweU8b/m02",
   "provenance": []
  },
  "kernelspec": {
   "display_name": "Python 3",
   "name": "python3"
  },
  "language_info": {
   "name": "python"
  }
 },
 "nbformat": 4,
 "nbformat_minor": 0
}
