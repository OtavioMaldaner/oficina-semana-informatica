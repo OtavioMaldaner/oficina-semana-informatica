{
 "cells": [
  {
   "cell_type": "markdown",
   "metadata": {
    "application/vnd.databricks.v1+cell": {
     "cellMetadata": {
      "byteLimit": 2048000,
      "rowLimit": 10000
     },
     "inputWidgets": {},
     "nuid": "08fdc9cf-96ef-4b61-a7ec-b6719b3ad0eb",
     "showTitle": false,
     "tableResultSettingsMap": {},
     "title": ""
    },
    "id": "HVhkrAmSNiWc"
   },
   "source": [
    "# ft_pedidos\n",
    "\n",
    "Esse notebook é responsável por reunir todas as informações úteis de cada pedido do e-commerce\n"
   ]
  },
  {
   "cell_type": "markdown",
   "metadata": {
    "application/vnd.databricks.v1+cell": {
     "cellMetadata": {
      "byteLimit": 2048000,
      "rowLimit": 10000
     },
     "inputWidgets": {},
     "nuid": "30a79d00-4327-4672-b658-9aa63dc5ec33",
     "showTitle": false,
     "tableResultSettingsMap": {},
     "title": ""
    },
    "id": "XQmlR01LOk57"
   },
   "source": [
    "## Configurações Iniciais"
   ]
  },
  {
   "cell_type": "markdown",
   "metadata": {
    "application/vnd.databricks.v1+cell": {
     "cellMetadata": {
      "byteLimit": 2048000,
      "rowLimit": 10000
     },
     "inputWidgets": {},
     "nuid": "32116971-6a60-4ff5-89c5-ee483f7f5db6",
     "showTitle": false,
     "tableResultSettingsMap": {},
     "title": ""
    }
   },
   "source": [
    "### Configurações Spark"
   ]
  },
  {
   "cell_type": "code",
   "execution_count": 0,
   "metadata": {
    "application/vnd.databricks.v1+cell": {
     "cellMetadata": {
      "byteLimit": 2048000,
      "rowLimit": 10000
     },
     "inputWidgets": {},
     "nuid": "22393634-7e97-427c-9de6-61787f87735c",
     "showTitle": false,
     "tableResultSettingsMap": {},
     "title": ""
    }
   },
   "outputs": [],
   "source": [
    "spark.conf.set(\"spark.sql.ansi.enabled\", \"false\")"
   ]
  },
  {
   "cell_type": "markdown",
   "metadata": {
    "application/vnd.databricks.v1+cell": {
     "cellMetadata": {
      "byteLimit": 2048000,
      "rowLimit": 10000
     },
     "inputWidgets": {},
     "nuid": "13370ba1-ef64-4855-a816-bd8a629622b1",
     "showTitle": false,
     "tableResultSettingsMap": {},
     "title": ""
    },
    "id": "m78YU_1POfCW"
   },
   "source": [
    "### Importando as Bibliotecas\n"
   ]
  },
  {
   "cell_type": "code",
   "execution_count": 0,
   "metadata": {
    "application/vnd.databricks.v1+cell": {
     "cellMetadata": {
      "byteLimit": 2048000,
      "rowLimit": 10000
     },
     "inputWidgets": {},
     "nuid": "e70f8d42-42ee-43ed-b737-c5a86dae44e3",
     "showTitle": false,
     "tableResultSettingsMap": {},
     "title": ""
    },
    "executionInfo": {
     "elapsed": 8,
     "status": "ok",
     "timestamp": 1754234008628,
     "user": {
      "displayName": "Otávio Maldaner",
      "userId": "03427891421355464378"
     },
     "user_tz": 180
    },
    "id": "-898edcyOOtB"
   },
   "outputs": [],
   "source": [
    "from pyspark.sql import functions as F"
   ]
  },
  {
   "cell_type": "markdown",
   "metadata": {
    "application/vnd.databricks.v1+cell": {
     "cellMetadata": {
      "byteLimit": 2048000,
      "rowLimit": 10000
     },
     "inputWidgets": {},
     "nuid": "90547c74-237a-42b7-8705-0b55dde633bb",
     "showTitle": false,
     "tableResultSettingsMap": {},
     "title": ""
    },
    "id": "Kyai-hp6OwsM"
   },
   "source": [
    "### Carregando os Dados"
   ]
  },
  {
   "cell_type": "code",
   "execution_count": 0,
   "metadata": {
    "application/vnd.databricks.v1+cell": {
     "cellMetadata": {
      "byteLimit": 2048000,
      "rowLimit": 10000
     },
     "inputWidgets": {},
     "nuid": "ba3b1886-f3ea-4444-9014-6caf427077d0",
     "showTitle": false,
     "tableResultSettingsMap": {},
     "title": ""
    },
    "executionInfo": {
     "elapsed": 2240,
     "status": "ok",
     "timestamp": 1754234010869,
     "user": {
      "displayName": "Otávio Maldaner",
      "userId": "03427891421355464378"
     },
     "user_tz": 180
    },
    "id": "n7qie1lXOSfA"
   },
   "outputs": [],
   "source": [
    "df_orders = (\n",
    "    spark.read.csv(\n",
    "        \"/Volumes/workspace/default/e_commerce/olist_orders_dataset.csv\",\n",
    "        header=True,\n",
    "        inferSchema=True\n",
    "    )\n",
    ")\n",
    "\n",
    "df_order_item = (\n",
    "    spark.read.csv(\n",
    "        \"/Volumes/workspace/default/e_commerce/olist_order_items_dataset.csv\",\n",
    "        header=True,\n",
    "        inferSchema=True\n",
    "    )\n",
    "    .withColumnRenamed(\"price\", \"net_price\")\n",
    ")\n",
    "\n",
    "df_order_payments = (\n",
    "    spark.read.csv(\n",
    "        \"/Volumes/workspace/default/e_commerce/olist_order_payments_dataset.csv\",\n",
    "        header=True,\n",
    "        inferSchema=True\n",
    "    )\n",
    "    .withColumn(\n",
    "        \"payment_type\",\n",
    "        F.when(\n",
    "            F.col(\"payment_type\") == \"not_defined\",\n",
    "            \"NÃO DEFINIDO\"\n",
    "        )\n",
    "        .when(\n",
    "            F.col(\"payment_type\") == \"credit_card\",\n",
    "            \"CARTÃO DE CRÉDITO\"\n",
    "        )\n",
    "        .when(\n",
    "            F.col(\"payment_type\") == \"debit_card\",\n",
    "            \"CARTÃO DE DÉBITO\"\n",
    "        )\n",
    "        .otherwise(F.upper(F.col(\"payment_type\")))\n",
    "    )\n",
    "    .withColumn(\n",
    "        \"installment_value\",\n",
    "        F.col(\"payment_value\") / F.col(\"payment_installments\")\n",
    "    )\n",
    ")\n",
    "\n",
    "df_order_reviews = (\n",
    "    spark.read.csv(\n",
    "        \"/Volumes/workspace/default/e_commerce/olist_order_reviews_dataset.csv\",\n",
    "        header=True,\n",
    "        inferSchema=True\n",
    "    )\n",
    "    .drop(\"review_creation_date\", \"review_answer_timestamp\")\n",
    "    .dropna(subset=[\"order_id\"])\n",
    ")"
   ]
  },
  {
   "cell_type": "markdown",
   "metadata": {
    "application/vnd.databricks.v1+cell": {
     "cellMetadata": {
      "byteLimit": 2048000,
      "rowLimit": 10000
     },
     "inputWidgets": {},
     "nuid": "5d521df6-d6a7-4140-96e1-7fe50364a729",
     "showTitle": false,
     "tableResultSettingsMap": {},
     "title": ""
    },
    "id": "-Ky5wXgJS5hn"
   },
   "source": [
    "## Transformação dos Dados"
   ]
  },
  {
   "cell_type": "code",
   "execution_count": 0,
   "metadata": {
    "application/vnd.databricks.v1+cell": {
     "cellMetadata": {
      "byteLimit": 2048000,
      "rowLimit": 10000
     },
     "inputWidgets": {},
     "nuid": "dc894ab0-7967-408b-9d77-3cf7b86aca7a",
     "showTitle": false,
     "tableResultSettingsMap": {},
     "title": ""
    },
    "executionInfo": {
     "elapsed": 226,
     "status": "ok",
     "timestamp": 1754234011102,
     "user": {
      "displayName": "Otávio Maldaner",
      "userId": "03427891421355464378"
     },
     "user_tz": 180
    },
    "id": "QZvHKZ8MRuUq"
   },
   "outputs": [],
   "source": [
    "df_ft_pedidos = (\n",
    "    df_orders\n",
    "    .join(\n",
    "        df_order_item,\n",
    "        on=\"order_id\",\n",
    "        how=\"left\"\n",
    "    )\n",
    "    .join(\n",
    "        df_order_payments,\n",
    "        on=\"order_id\",\n",
    "        how=\"left\"\n",
    "    )\n",
    "    .join(\n",
    "        df_order_reviews,\n",
    "        on=\"order_id\",\n",
    "        how=\"left\"\n",
    "    )\n",
    "    .withColumn(\n",
    "        \"delivery_time_seconds\",\n",
    "        (F.col(\"order_delivered_customer_date\").cast(\"long\") - F.col(\"order_purchase_timestamp\").cast(\"long\")).cast(\"int\")\n",
    "    )\n",
    "    .withColumn(\n",
    "        \"delivery_time_hours\",\n",
    "        F.col(\"delivery_time_seconds\") / 3600\n",
    "    )\n",
    "    .withColumn(\n",
    "        \"delivery_time_days\",\n",
    "        F.col(\"delivery_time_seconds\") / (3600 * 24)\n",
    "    )\n",
    "    .withColumn(\n",
    "        \"freight_percent\",\n",
    "        F.col(\"freight_value\") / F.col(\"payment_value\")\n",
    "    )\n",
    "    .withColumn(\n",
    "        \"review_comment_message\",\n",
    "        F.regexp_replace(F.col(\"review_comment_message\"), '\"', \"'\")\n",
    "    )\n",
    ")"
   ]
  },
  {
   "cell_type": "markdown",
   "metadata": {
    "application/vnd.databricks.v1+cell": {
     "cellMetadata": {
      "byteLimit": 2048000,
      "rowLimit": 10000
     },
     "inputWidgets": {},
     "nuid": "ae1ab10f-e7dc-458c-9d9f-85dcc2eb5972",
     "showTitle": false,
     "tableResultSettingsMap": {},
     "title": ""
    },
    "id": "xPMbzB_hVvGv"
   },
   "source": [
    "## Salvamento dos Dados"
   ]
  },
  {
   "cell_type": "code",
   "execution_count": 0,
   "metadata": {
    "application/vnd.databricks.v1+cell": {
     "cellMetadata": {
      "byteLimit": 2048000,
      "implicitDf": true,
      "rowLimit": 10000
     },
     "inputWidgets": {},
     "nuid": "bb4e8f97-862b-4f3a-b236-a0c3495db42d",
     "showTitle": false,
     "tableResultSettingsMap": {},
     "title": ""
    }
   },
   "outputs": [],
   "source": [
    "%sql\n",
    "CREATE TABLE IF NOT EXISTS ifrs_dev_ecommerce.gold.ft_pedidos (\n",
    "    order_id STRING COMMENT \"ID do pedido\",\n",
    "    customer_id STRING COMMENT \"ID do cliente\",\n",
    "    order_status STRING COMMENT \"Status do pedido\",\n",
    "    order_purchase_timestamp TIMESTAMP COMMENT \"Data/hora da compra\",\n",
    "    order_approved_at TIMESTAMP COMMENT \"Data/hora de aprovação\",\n",
    "    order_delivered_carrier_date TIMESTAMP COMMENT \"Data/hora de envio para transportadora\",\n",
    "    order_delivered_customer_date TIMESTAMP COMMENT \"Data/hora de entrega ao cliente\",\n",
    "    order_estimated_delivery_date TIMESTAMP COMMENT \"Data estimada de entrega\",\n",
    "    order_item_id INT COMMENT \"ID do item do pedido\",\n",
    "    product_id STRING COMMENT \"ID do produto\",\n",
    "    seller_id STRING COMMENT \"ID do vendedor\",\n",
    "    shipping_limit_date TIMESTAMP COMMENT \"Data limite de envio\",\n",
    "    net_price DOUBLE COMMENT \"Preço líquido do item\",\n",
    "    freight_value DOUBLE COMMENT \"Valor do frete\",\n",
    "    payment_sequential INT COMMENT \"Sequencial do pagamento\",\n",
    "    payment_type STRING COMMENT \"Tipo de pagamento\",\n",
    "    payment_installments INT COMMENT \"Número de parcelas\",\n",
    "    payment_value DOUBLE COMMENT \"Valor do pagamento\",\n",
    "    installment_value DOUBLE COMMENT \"Valor da parcela\",\n",
    "    review_id STRING COMMENT \"ID da avaliação\",\n",
    "    review_score STRING COMMENT \"Nota da avaliação\",\n",
    "    review_comment_title STRING COMMENT \"Título do comentário da avaliação\",\n",
    "    review_comment_message STRING COMMENT \"Mensagem do comentário da avaliação\",\n",
    "    delivery_time_seconds INT COMMENT \"Tempo de entrega em segundos\",\n",
    "    delivery_time_hours DOUBLE COMMENT \"Tempo de entrega em horas\",\n",
    "    delivery_time_days DOUBLE COMMENT \"Tempo de entrega em dias\",\n",
    "    freight_percent DOUBLE COMMENT \"Percentual do frete sobre o valor pago\",\n",
    "    CONSTRAINT fk_customer_id FOREIGN KEY (customer_id) REFERENCES ifrs_dev_ecommerce.gold.dim_clientes (customer_id),\n",
    "    CONSTRAINT fk_product_id FOREIGN KEY (product_id) REFERENCES ifrs_dev_ecommerce.gold.dim_produtos (product_id),\n",
    "    CONSTRAINT fk_seller_id FOREIGN KEY (seller_id) REFERENCES ifrs_dev_ecommerce.gold.dim_fornecedores (seller_id)\n",
    ")\n",
    "USING DELTA\n",
    "CLUSTER BY (order_id, customer_id)\n",
    "TBLPROPERTIES (\"quality\"=\"gold\", \"layer\"=\"data-engineering\")\n",
    "COMMENT \"Fato de pedidos do e-commerce contendo informações detalhadas de cada pedido.\";\n",
    "\n",
    "-- Adicionando tags à tabela\n",
    "ALTER TABLE ifrs_dev_ecommerce.gold.ft_pedidos SET TAGS (\"quality\"=\"gold\", \"layer\"=\"data-engineering\");"
   ]
  },
  {
   "cell_type": "code",
   "execution_count": 0,
   "metadata": {
    "application/vnd.databricks.v1+cell": {
     "cellMetadata": {
      "byteLimit": 2048000,
      "rowLimit": 10000
     },
     "inputWidgets": {},
     "nuid": "ba78ef14-7805-408f-bee7-07f8033b6f75",
     "showTitle": false,
     "tableResultSettingsMap": {},
     "title": ""
    },
    "executionInfo": {
     "elapsed": 13460,
     "status": "ok",
     "timestamp": 1754234024569,
     "user": {
      "displayName": "Otávio Maldaner",
      "userId": "03427891421355464378"
     },
     "user_tz": 180
    },
    "id": "GEwgh1f8Vwbe"
   },
   "outputs": [],
   "source": [
    "(\n",
    "    df_ft_pedidos\n",
    "    .write.mode(\"overwrite\")\n",
    "    .format(\"delta\")\n",
    "    .saveAsTable(\"ifrs_dev_ecommerce.gold.ft_pedidos\")\n",
    ")"
   ]
  }
 ],
 "metadata": {
  "application/vnd.databricks.v1+notebook": {
   "computePreferences": {
    "hardware": {
     "accelerator": null,
     "gpuPoolId": null,
     "memory": null
    }
   },
   "dashboards": [],
   "environmentMetadata": null,
   "inputWidgetPreferences": null,
   "language": "python",
   "notebookMetadata": {
    "mostRecentlyExecutedCommandWithImplicitDF": {
     "commandId": 8313392933834931,
     "dataframes": [
      "_sqldf"
     ]
    },
    "pythonIndentUnit": 4
   },
   "notebookName": "ft_pedidos",
   "widgets": {}
  },
  "colab": {
   "authorship_tag": "ABX9TyPQhnUI+JEUpBGxxX1ngIQf",
   "provenance": []
  },
  "kernelspec": {
   "display_name": "Python 3",
   "name": "python3"
  },
  "language_info": {
   "name": "python"
  }
 },
 "nbformat": 4,
 "nbformat_minor": 0
}
