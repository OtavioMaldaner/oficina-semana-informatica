{
 "cells": [
  {
   "cell_type": "markdown",
   "metadata": {
    "application/vnd.databricks.v1+cell": {
     "cellMetadata": {
      "byteLimit": 2048000,
      "rowLimit": 10000
     },
     "inputWidgets": {},
     "nuid": "21f67cf8-f985-4abf-a1f9-bd312ab71d64",
     "showTitle": false,
     "tableResultSettingsMap": {},
     "title": ""
    },
    "id": "sRCVPUgPCDyz"
   },
   "source": [
    "# dim_clientes\n",
    "\n",
    "Esse notebook é responsável por criar uma tabela com as informações básicas dos clientes do e-commerce.\n"
   ]
  },
  {
   "cell_type": "markdown",
   "metadata": {
    "application/vnd.databricks.v1+cell": {
     "cellMetadata": {
      "byteLimit": 2048000,
      "rowLimit": 10000
     },
     "inputWidgets": {},
     "nuid": "b31660df-e3a3-40c4-b1c2-44001dceb63b",
     "showTitle": false,
     "tableResultSettingsMap": {},
     "title": ""
    },
    "id": "delPYogbCmhN"
   },
   "source": [
    "## Configurações Iniciais"
   ]
  },
  {
   "cell_type": "markdown",
   "metadata": {
    "application/vnd.databricks.v1+cell": {
     "cellMetadata": {
      "byteLimit": 2048000,
      "rowLimit": 10000
     },
     "inputWidgets": {},
     "nuid": "7ae3d9e5-7e79-4323-8d77-1be73ff25a28",
     "showTitle": false,
     "tableResultSettingsMap": {},
     "title": ""
    },
    "id": "zwa6n7yyC_Tz"
   },
   "source": [
    "### Importando as Bibliotecas"
   ]
  },
  {
   "cell_type": "code",
   "execution_count": 0,
   "metadata": {
    "application/vnd.databricks.v1+cell": {
     "cellMetadata": {
      "byteLimit": 2048000,
      "rowLimit": 10000
     },
     "inputWidgets": {},
     "nuid": "27ce14c8-7668-4ea6-b5d3-6c3a4fd7cb2d",
     "showTitle": false,
     "tableResultSettingsMap": {},
     "title": ""
    },
    "executionInfo": {
     "elapsed": 4,
     "status": "ok",
     "timestamp": 1754229747573,
     "user": {
      "displayName": "Otávio Maldaner",
      "userId": "03427891421355464378"
     },
     "user_tz": 180
    },
    "id": "NQmrmaqKC7h7"
   },
   "outputs": [],
   "source": [
    "from pyspark.sql import functions as F"
   ]
  },
  {
   "cell_type": "markdown",
   "metadata": {
    "application/vnd.databricks.v1+cell": {
     "cellMetadata": {
      "byteLimit": 2048000,
      "rowLimit": 10000
     },
     "inputWidgets": {},
     "nuid": "45114607-9a1f-4bce-a96e-7455f766d36a",
     "showTitle": false,
     "tableResultSettingsMap": {},
     "title": ""
    },
    "id": "nmCwwQYkDD8g"
   },
   "source": [
    "### Carregando os Dados"
   ]
  },
  {
   "cell_type": "code",
   "execution_count": 0,
   "metadata": {
    "application/vnd.databricks.v1+cell": {
     "cellMetadata": {
      "byteLimit": 2048000,
      "rowLimit": 10000
     },
     "inputWidgets": {},
     "nuid": "025b50b3-8798-4c5a-915d-3d5be5f22125",
     "showTitle": false,
     "tableResultSettingsMap": {},
     "title": ""
    },
    "executionInfo": {
     "elapsed": 941,
     "status": "ok",
     "timestamp": 1754229825378,
     "user": {
      "displayName": "Otávio Maldaner",
      "userId": "03427891421355464378"
     },
     "user_tz": 180
    },
    "id": "yg72ehHxDCPz"
   },
   "outputs": [],
   "source": [
    "df_customers_dataset = (\n",
    "    spark.read.csv(\n",
    "        \"/Volumes/workspace/default/e_commerce/olist_customers_dataset.csv\",\n",
    "        header=True,\n",
    "        inferSchema=True\n",
    "    )\n",
    "    .drop(\"customer_city\", \"customer_state\")\n",
    ")"
   ]
  },
  {
   "cell_type": "markdown",
   "metadata": {
    "application/vnd.databricks.v1+cell": {
     "cellMetadata": {},
     "inputWidgets": {},
     "nuid": "ef3c9c75-db13-44a0-88d7-a68fac8c0812",
     "showTitle": false,
     "tableResultSettingsMap": {},
     "title": ""
    },
    "id": "6lhoSC0IEBdX"
   },
   "source": [
    "## Salvamento dos Dados"
   ]
  },
  {
   "cell_type": "code",
   "execution_count": 0,
   "metadata": {
    "application/vnd.databricks.v1+cell": {
     "cellMetadata": {},
     "inputWidgets": {},
     "nuid": "023a7dca-91b9-4fee-b42f-8ae19c696088",
     "showTitle": false,
     "tableResultSettingsMap": {},
     "title": ""
    }
   },
   "outputs": [],
   "source": [
    "%sql\n",
    "CREATE TABLE IF NOT EXISTS ifrs_dev_ecommerce.gold.dim_clientes (\n",
    "    customer_id STRING PRIMARY KEY COMMENT \"ID do cliente\",\n",
    "    customer_zip_code_prefix INT COMMENT \"Prefixo do CEP do cliente\",\n",
    "    client_name STRING COMMENT \"Nome do cliente\",\n",
    "    CONSTRAINT fk_geolocalizacao_clientes FOREIGN KEY (customer_zip_code_prefix)\n",
    "        REFERENCES ifrs_dev_ecommerce.gold.dim_geolocalizacao(geolocation_zip_code_prefix)\n",
    ")\n",
    "USING DELTA\n",
    "CLUSTER BY (customer_id, customer_zip_code_prefix)\n",
    "TBLPROPERTIES (\"quality\"=\"gold\", \"layer\"=\"data-engineering\")\n",
    "COMMENT \"Dimensão de clientes contendo informações de identificação e localização.\";\n",
    "\n",
    "-- Adicionando tags à tabela\n",
    "ALTER TABLE ifrs_dev_ecommerce.gold.dim_clientes SET TAGS (\"quality\"=\"gold\", \"layer\"=\"data-engineering\");"
   ]
  },
  {
   "cell_type": "code",
   "execution_count": 0,
   "metadata": {
    "application/vnd.databricks.v1+cell": {
     "cellMetadata": {},
     "inputWidgets": {},
     "nuid": "2c457725-04bc-466c-bfdd-a6477b5e0298",
     "showTitle": false,
     "tableResultSettingsMap": {},
     "title": ""
    },
    "id": "4h6UAsYuEDJh"
   },
   "outputs": [],
   "source": [
    "(\n",
    "    df_customers_dataset\n",
    "    .write.mode(\"overwrite\")\n",
    "    .format(\"delta\")\n",
    "    .saveAsTable(\"ifrs_dev_ecommerce.gold.dim_clientes\")\n",
    ")"
   ]
  }
 ],
 "metadata": {
  "application/vnd.databricks.v1+notebook": {
   "computePreferences": null,
   "dashboards": [],
   "environmentMetadata": null,
   "inputWidgetPreferences": null,
   "language": "python",
   "notebookMetadata": {
    "mostRecentlyExecutedCommandWithImplicitDF": {
     "commandId": 8313392933834906,
     "dataframes": [
      "_sqldf"
     ]
    },
    "pythonIndentUnit": 4
   },
   "notebookName": "dim_clientes",
   "widgets": {}
  },
  "colab": {
   "authorship_tag": "ABX9TyMMNPemZiZfuUMBYnRGewB7",
   "provenance": []
  },
  "kernelspec": {
   "display_name": "Python 3",
   "name": "python3"
  },
  "language_info": {
   "name": "python"
  }
 },
 "nbformat": 4,
 "nbformat_minor": 0
}
