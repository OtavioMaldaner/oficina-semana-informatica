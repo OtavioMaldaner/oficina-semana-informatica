{
 "cells": [
  {
   "cell_type": "markdown",
   "metadata": {
    "id": "sRCVPUgPCDyz"
   },
   "source": [
    "# dim_geolocalizacao\n",
    "\n",
    "Esse notebook é responsável por criar uma tabela com as informações básicas das localizações.\n"
   ]
  },
  {
   "cell_type": "markdown",
   "metadata": {
    "id": "delPYogbCmhN"
   },
   "source": [
    "## Configurações Iniciais"
   ]
  },
  {
   "cell_type": "markdown",
   "metadata": {
    "id": "qUMbO9XqCouN"
   },
   "source": [
    "### Preparação do Ambiente PySpark"
   ]
  },
  {
   "cell_type": "markdown",
   "metadata": {
    "id": "pKufl5nnCsMT"
   },
   "source": [
    "#### Instalando as Dependências"
   ]
  },
  {
   "cell_type": "code",
   "execution_count": 1,
   "metadata": {
    "executionInfo": {
     "elapsed": 52245,
     "status": "ok",
     "timestamp": 1754229427278,
     "user": {
      "displayName": "Otávio Maldaner",
      "userId": "03427891421355464378"
     },
     "user_tz": 180
    },
    "id": "aN17UfVfBijw"
   },
   "outputs": [],
   "source": [
    "# Instala o Java 8\n",
    "!apt-get install openjdk-8-jdk-headless -qq > /dev/null\n",
    "\n",
    "# Baixa o Apache Spark 3.4.1 com Hadoop 3 (versão estável e recente)\n",
    "!wget -q https://archive.apache.org/dist/spark/spark-3.4.1/spark-3.4.1-bin-hadoop3.tgz\n",
    "\n",
    "# Descompacta o arquivo baixado\n",
    "!tar xf spark-3.4.1-bin-hadoop3.tgz\n",
    "\n",
    "# Instala a biblioteca findspark\n",
    "!pip install -q findspark"
   ]
  },
  {
   "cell_type": "markdown",
   "metadata": {
    "id": "0kACGaKNC3iU"
   },
   "source": [
    "#### Editando as Variáveis de Ambiente"
   ]
  },
  {
   "cell_type": "code",
   "execution_count": 2,
   "metadata": {
    "executionInfo": {
     "elapsed": 10705,
     "status": "ok",
     "timestamp": 1754229437994,
     "user": {
      "displayName": "Otávio Maldaner",
      "userId": "03427891421355464378"
     },
     "user_tz": 180
    },
    "id": "DT_vi-FsCy8e"
   },
   "outputs": [],
   "source": [
    "import os\n",
    "\n",
    "# Define a variável de ambiente do Java\n",
    "os.environ[\"JAVA_HOME\"] = \"/usr/lib/jvm/java-8-openjdk-amd64\"\n",
    "\n",
    "# Define a variável de ambiente do Spark\n",
    "os.environ[\"SPARK_HOME\"] = \"/content/spark-3.4.1-bin-hadoop3\"\n",
    "\n",
    "from pyspark.sql import SparkSession\n",
    "\n",
    "# Cria a SparkSession\n",
    "spark = SparkSession.builder.master(\"local[*]\").appName(\"E-commerce Dataset\").getOrCreate()"
   ]
  },
  {
   "cell_type": "markdown",
   "metadata": {
    "id": "zwa6n7yyC_Tz"
   },
   "source": [
    "### Importando as Bibliotecas"
   ]
  },
  {
   "cell_type": "code",
   "execution_count": 3,
   "metadata": {
    "executionInfo": {
     "elapsed": 6,
     "status": "ok",
     "timestamp": 1754229437996,
     "user": {
      "displayName": "Otávio Maldaner",
      "userId": "03427891421355464378"
     },
     "user_tz": 180
    },
    "id": "NQmrmaqKC7h7"
   },
   "outputs": [],
   "source": [
    "from pyspark.sql import functions as F"
   ]
  },
  {
   "cell_type": "markdown",
   "metadata": {
    "id": "nmCwwQYkDD8g"
   },
   "source": [
    "### Carregando os Dados"
   ]
  },
  {
   "cell_type": "code",
   "execution_count": 14,
   "metadata": {
    "executionInfo": {
     "elapsed": 2680,
     "status": "ok",
     "timestamp": 1754229608929,
     "user": {
      "displayName": "Otávio Maldaner",
      "userId": "03427891421355464378"
     },
     "user_tz": 180
    },
    "id": "yg72ehHxDCPz"
   },
   "outputs": [],
   "source": [
    "df_geolocation_dataset = (\n",
    "    spark.read.csv(\n",
    "        \"/content/olist_geolocation_dataset.csv\",\n",
    "        header=True,\n",
    "        inferSchema=True\n",
    "    )\n",
    ")"
   ]
  },
  {
   "cell_type": "markdown",
   "metadata": {
    "id": "srjE8EnQOvsS"
   },
   "source": [
    "## Transformação dos Dados"
   ]
  },
  {
   "cell_type": "code",
   "execution_count": null,
   "metadata": {
    "executionInfo": {
     "elapsed": 83,
     "status": "ok",
     "timestamp": 1754229609014,
     "user": {
      "displayName": "Otávio Maldaner",
      "userId": "03427891421355464378"
     },
     "user_tz": 180
    },
    "id": "nnIPL5UYOxwW"
   },
   "outputs": [],
   "source": [
    "df_final_geolocation_dataset = (\n",
    "    df_geolocation_dataset\n",
    "    .withColumn(\n",
    "        \"geolocation_country\",\n",
    "        F.lit(\"BR\")\n",
    "    )\n",
    "    .withColumn(\n",
    "        \"geolocation_city\",\n",
    "        F.upper(F.col(\"geolocation_city\"))\n",
    "    )\n",
    "    .withColumn(\n",
    "        \"geolocation_city_state\",\n",
    "        F.concat_ws(\n",
    "            \" - \",\n",
    "            F.col(\"geolocation_city\"),\n",
    "            F.col(\"geolocation_state\")\n",
    "        )\n",
    "    )\n",
    ")"
   ]
  },
  {
   "cell_type": "markdown",
   "metadata": {
    "id": "6lhoSC0IEBdX"
   },
   "source": [
    "## Salvamento dos Dados"
   ]
  },
  {
   "cell_type": "code",
   "execution_count": null,
   "metadata": {
    "id": "4h6UAsYuEDJh"
   },
   "outputs": [],
   "source": [
    "(\n",
    "    df_final_geolocation_dataset\n",
    "    .coalesce(1)\n",
    "    .write\n",
    "    .option(\"header\", \"true\")\n",
    "    .mode(\"overwrite\")\n",
    "    .csv(\"/transformed_data/dim_geolocalizacao\")\n",
    ")"
   ]
  }
 ],
 "metadata": {
  "colab": {
   "authorship_tag": "ABX9TyOi9+Md5brF+nyweU8b/m02",
   "provenance": []
  },
  "kernelspec": {
   "display_name": "Python 3",
   "name": "python3"
  },
  "language_info": {
   "name": "python"
  }
 },
 "nbformat": 4,
 "nbformat_minor": 0
}
