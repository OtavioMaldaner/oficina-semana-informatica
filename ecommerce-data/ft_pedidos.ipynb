{
 "cells": [
  {
   "cell_type": "markdown",
   "metadata": {
    "id": "HVhkrAmSNiWc"
   },
   "source": [
    "# ft_pedidos\n",
    "\n",
    "Esse notebook é responsável por reunir todas as informações úteis de cada pedido do e-commerce\n"
   ]
  },
  {
   "cell_type": "markdown",
   "metadata": {
    "id": "XQmlR01LOk57"
   },
   "source": [
    "## Configurações Iniciais"
   ]
  },
  {
   "cell_type": "markdown",
   "metadata": {
    "id": "QIPm9KRhN-RH"
   },
   "source": [
    "### Preparação do Ambiente PySpark"
   ]
  },
  {
   "cell_type": "markdown",
   "metadata": {
    "id": "KIldsibcOCej"
   },
   "source": [
    "#### Instalando as Dependências"
   ]
  },
  {
   "cell_type": "code",
   "execution_count": 55,
   "metadata": {
    "executionInfo": {
     "elapsed": 21750,
     "status": "ok",
     "timestamp": 1754234008607,
     "user": {
      "displayName": "Otávio Maldaner",
      "userId": "03427891421355464378"
     },
     "user_tz": 180
    },
    "id": "up7ovTgZNT1P"
   },
   "outputs": [],
   "source": [
    "# Instala o Java 8\n",
    "!apt-get install openjdk-8-jdk-headless -qq > /dev/null\n",
    "\n",
    "# Baixa o Apache Spark 3.4.1 com Hadoop 3 (versão estável e recente)\n",
    "!wget -q https://archive.apache.org/dist/spark/spark-3.4.1/spark-3.4.1-bin-hadoop3.tgz\n",
    "\n",
    "# Descompacta o arquivo baixado\n",
    "!tar xf spark-3.4.1-bin-hadoop3.tgz\n",
    "\n",
    "# Instala a biblioteca findspark\n",
    "!pip install -q findspark"
   ]
  },
  {
   "cell_type": "markdown",
   "metadata": {
    "id": "_EAPKODSOIEJ"
   },
   "source": [
    "#### Editando as Variáveis de Ambiente"
   ]
  },
  {
   "cell_type": "code",
   "execution_count": 56,
   "metadata": {
    "executionInfo": {
     "elapsed": 9,
     "status": "ok",
     "timestamp": 1754234008618,
     "user": {
      "displayName": "Otávio Maldaner",
      "userId": "03427891421355464378"
     },
     "user_tz": 180
    },
    "id": "0OU9CculN3pZ"
   },
   "outputs": [],
   "source": [
    "import os\n",
    "\n",
    "# Define a variável de ambiente do Java\n",
    "os.environ[\"JAVA_HOME\"] = \"/usr/lib/jvm/java-8-openjdk-amd64\"\n",
    "\n",
    "# Define a variável de ambiente do Spark\n",
    "os.environ[\"SPARK_HOME\"] = \"/content/spark-3.4.1-bin-hadoop3\"\n",
    "\n",
    "from pyspark.sql import SparkSession\n",
    "\n",
    "# Cria a SparkSession\n",
    "spark = SparkSession.builder.master(\"local[*]\").appName(\"E-commerce Dataset\").getOrCreate()"
   ]
  },
  {
   "cell_type": "markdown",
   "metadata": {
    "id": "m78YU_1POfCW"
   },
   "source": [
    "### Importando as Bibliotecas\n"
   ]
  },
  {
   "cell_type": "code",
   "execution_count": 57,
   "metadata": {
    "executionInfo": {
     "elapsed": 8,
     "status": "ok",
     "timestamp": 1754234008628,
     "user": {
      "displayName": "Otávio Maldaner",
      "userId": "03427891421355464378"
     },
     "user_tz": 180
    },
    "id": "-898edcyOOtB"
   },
   "outputs": [],
   "source": [
    "from pyspark.sql import functions as F"
   ]
  },
  {
   "cell_type": "markdown",
   "metadata": {
    "id": "Kyai-hp6OwsM"
   },
   "source": [
    "### Carregando os Dados"
   ]
  },
  {
   "cell_type": "code",
   "execution_count": null,
   "metadata": {
    "executionInfo": {
     "elapsed": 2240,
     "status": "ok",
     "timestamp": 1754234010869,
     "user": {
      "displayName": "Otávio Maldaner",
      "userId": "03427891421355464378"
     },
     "user_tz": 180
    },
    "id": "n7qie1lXOSfA"
   },
   "outputs": [],
   "source": [
    "df_orders = (\n",
    "    spark.read.csv(\n",
    "        \"/content/olist_orders_dataset.csv\",\n",
    "        header=True,\n",
    "        inferSchema=True\n",
    "    )\n",
    ")\n",
    "\n",
    "df_order_item = (\n",
    "    spark.read.csv(\n",
    "        \"/content/olist_order_items_dataset.csv\",\n",
    "        header=True,\n",
    "        inferSchema=True\n",
    "    )\n",
    "    .withColumnRenamed(\"price\", \"net_price\")\n",
    ")\n",
    "\n",
    "df_order_payments = (\n",
    "    spark.read.csv(\n",
    "        \"/content/olist_order_payments_dataset.csv\",\n",
    "        header=True,\n",
    "        inferSchema=True\n",
    "    )\n",
    "    .withColumn(\n",
    "        \"payment_type\",\n",
    "        F.when(\n",
    "            F.col(\"payment_type\") == \"not_defined\",\n",
    "            \"NÃO DEFINIDO\"\n",
    "        )\n",
    "        .when(\n",
    "            F.col(\"payment_type\") == \"credit_card\",\n",
    "            \"CARTÃO DE CRÉDITO\"\n",
    "        )\n",
    "        .when(\n",
    "            F.col(\"payment_type\") == \"debit_card\",\n",
    "            \"CARTÃO DE DÉBITO\"\n",
    "        )\n",
    "        .otherwise(F.upper(F.col(\"payment_type\")))\n",
    "    )\n",
    "    .withColumn(\n",
    "        \"installment_value\",\n",
    "        F.col(\"payment_value\") / F.col(\"payment_installments\")\n",
    "    )\n",
    ")\n",
    "\n",
    "df_order_reviews = (\n",
    "    spark.read.csv(\n",
    "        \"/content/olist_order_reviews_dataset.csv\",\n",
    "        header=True,\n",
    "        inferSchema=True\n",
    "    )\n",
    "    .drop(\"review_creation_date\", \"review_answer_timestamp\")\n",
    "    .dropna(subset=[\"order_id\"])\n",
    ")"
   ]
  },
  {
   "cell_type": "markdown",
   "metadata": {
    "id": "-Ky5wXgJS5hn"
   },
   "source": [
    "## Transformação dos Dados"
   ]
  },
  {
   "cell_type": "code",
   "execution_count": null,
   "metadata": {
    "executionInfo": {
     "elapsed": 226,
     "status": "ok",
     "timestamp": 1754234011102,
     "user": {
      "displayName": "Otávio Maldaner",
      "userId": "03427891421355464378"
     },
     "user_tz": 180
    },
    "id": "QZvHKZ8MRuUq"
   },
   "outputs": [],
   "source": [
    "df_ft_pedidos = (\n",
    "    df_orders\n",
    "    .join(\n",
    "        df_order_item,\n",
    "        on=\"order_id\",\n",
    "        how=\"left\"\n",
    "    )\n",
    "    .join(\n",
    "        df_order_payments,\n",
    "        on=\"order_id\",\n",
    "        how=\"left\"\n",
    "    )\n",
    "    .join(\n",
    "        df_order_reviews,\n",
    "        on=\"order_id\",\n",
    "        how=\"left\"\n",
    "    )\n",
    "    .withColumn(\n",
    "        \"delivery_time_seconds\",\n",
    "        (F.col(\"order_delivered_customer_date\").cast(\"long\") - F.col(\"order_purchase_timestamp\").cast(\"long\")).cast(\"int\")\n",
    "    )\n",
    "    .withColumn(\n",
    "        \"delivery_time_hours\",\n",
    "        F.col(\"delivery_time_seconds\") / 3600\n",
    "    )\n",
    "    .withColumn(\n",
    "        \"delivery_time_days\",\n",
    "        F.col(\"delivery_time_seconds\") / (3600 * 24)\n",
    "    )\n",
    "    .withColumn(\n",
    "        \"freight_percent\",\n",
    "        F.col(\"freight_value\") / F.col(\"net_price\")\n",
    "    )\n",
    "    .withColumn(\n",
    "        \"review_comment_message\",\n",
    "        F.regexp_replace(F.col(\"review_comment_message\"), '\"', \"'\")\n",
    "    )\n",
    ")"
   ]
  },
  {
   "cell_type": "markdown",
   "metadata": {
    "id": "xPMbzB_hVvGv"
   },
   "source": [
    "## Salvamento dos Dados"
   ]
  },
  {
   "cell_type": "code",
   "execution_count": 60,
   "metadata": {
    "executionInfo": {
     "elapsed": 13460,
     "status": "ok",
     "timestamp": 1754234024569,
     "user": {
      "displayName": "Otávio Maldaner",
      "userId": "03427891421355464378"
     },
     "user_tz": 180
    },
    "id": "GEwgh1f8Vwbe"
   },
   "outputs": [],
   "source": [
    "(\n",
    "    df_ft_pedidos\n",
    "    .coalesce(1)\n",
    "    .write\n",
    "    .option(\"header\", \"true\")\n",
    "    .mode(\"overwrite\")\n",
    "    .csv(\"/transformed_data/ft_pedidos\")\n",
    ")"
   ]
  }
 ],
 "metadata": {
  "colab": {
   "authorship_tag": "ABX9TyPQhnUI+JEUpBGxxX1ngIQf",
   "provenance": []
  },
  "kernelspec": {
   "display_name": "Python 3",
   "name": "python3"
  },
  "language_info": {
   "name": "python"
  }
 },
 "nbformat": 4,
 "nbformat_minor": 0
}
