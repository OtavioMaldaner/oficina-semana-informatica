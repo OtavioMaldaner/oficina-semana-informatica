{
  "nbformat": 4,
  "nbformat_minor": 0,
  "metadata": {
    "colab": {
      "provenance": []
    },
    "kernelspec": {
      "name": "python3",
      "display_name": "Python 3"
    },
    "language_info": {
      "name": "python"
    }
  },
  "cells": [
    {
      "cell_type": "markdown",
      "source": [
        "# obt_customers_header\n",
        "\n",
        "Esse notebook é responsável por fazer a união de informações básicas sobre os clientes do e-commerce\n"
      ],
      "metadata": {
        "id": "HVhkrAmSNiWc"
      }
    },
    {
      "cell_type": "markdown",
      "source": [
        "## Configurações Iniciais"
      ],
      "metadata": {
        "id": "XQmlR01LOk57"
      }
    },
    {
      "cell_type": "markdown",
      "source": [
        "### Preparação do Ambiente PySpark"
      ],
      "metadata": {
        "id": "QIPm9KRhN-RH"
      }
    },
    {
      "cell_type": "markdown",
      "source": [
        "#### Instalando as Dependências"
      ],
      "metadata": {
        "id": "KIldsibcOCej"
      }
    },
    {
      "cell_type": "code",
      "execution_count": 27,
      "metadata": {
        "id": "up7ovTgZNT1P"
      },
      "outputs": [],
      "source": [
        "# Instala o Java 8\n",
        "!apt-get install openjdk-8-jdk-headless -qq > /dev/null\n",
        "\n",
        "# Baixa o Apache Spark 3.4.1 com Hadoop 3 (versão estável e recente)\n",
        "!wget -q https://archive.apache.org/dist/spark/spark-3.4.1/spark-3.4.1-bin-hadoop3.tgz\n",
        "\n",
        "# Descompacta o arquivo baixado\n",
        "!tar xf spark-3.4.1-bin-hadoop3.tgz\n",
        "\n",
        "# Instala a biblioteca findspark\n",
        "!pip install -q findspark"
      ]
    },
    {
      "cell_type": "markdown",
      "source": [
        "#### Settando as Variáveis de Ambiente"
      ],
      "metadata": {
        "id": "_EAPKODSOIEJ"
      }
    },
    {
      "cell_type": "code",
      "source": [
        "import os\n",
        "\n",
        "# Define a variável de ambiente do Java\n",
        "os.environ[\"JAVA_HOME\"] = \"/usr/lib/jvm/java-8-openjdk-amd64\"\n",
        "\n",
        "# Define a variável de ambiente do Spark\n",
        "os.environ[\"SPARK_HOME\"] = \"/content/spark-3.4.1-bin-hadoop3\"\n",
        "\n",
        "from pyspark.sql import SparkSession\n",
        "\n",
        "# Cria a SparkSession\n",
        "spark = SparkSession.builder.master(\"local[*]\").appName(\"E-commerce Dataset\").getOrCreate()"
      ],
      "metadata": {
        "id": "0OU9CculN3pZ"
      },
      "execution_count": 28,
      "outputs": []
    },
    {
      "cell_type": "markdown",
      "source": [
        "### Importando as Bibliotecas\n"
      ],
      "metadata": {
        "id": "m78YU_1POfCW"
      }
    },
    {
      "cell_type": "code",
      "source": [
        "from pyspark.sql import functions as F\n",
        "import pandas as pd"
      ],
      "metadata": {
        "id": "-898edcyOOtB"
      },
      "execution_count": 29,
      "outputs": []
    },
    {
      "cell_type": "markdown",
      "source": [
        "### Carregando os Dados"
      ],
      "metadata": {
        "id": "Kyai-hp6OwsM"
      }
    },
    {
      "cell_type": "code",
      "source": [
        "df_customers_dataset = (\n",
        "    spark.read.csv(\n",
        "        \"/content/olist_customers_dataset.csv\",\n",
        "        header=True,\n",
        "        inferSchema=True\n",
        "    )\n",
        ")\n",
        "\n",
        "df_customers_geolocations = (\n",
        "    spark.read.csv(\n",
        "        \"/content/olist_geolocation_dataset.csv\",\n",
        "        header=True,\n",
        "        inferSchema=True\n",
        "    )\n",
        "    .withColumnRenamed(\"geolocation_zip_code_prefix\", \"customer_zip_code_prefix\")\n",
        ")"
      ],
      "metadata": {
        "id": "n7qie1lXOSfA"
      },
      "execution_count": 30,
      "outputs": []
    },
    {
      "cell_type": "markdown",
      "source": [
        "## Transformação dos Dados"
      ],
      "metadata": {
        "id": "-Ky5wXgJS5hn"
      }
    },
    {
      "cell_type": "code",
      "source": [
        "df_coordenadas_geograficas = (\n",
        "    df_customers_dataset\n",
        "    .join(\n",
        "        df_customers_geolocations,\n",
        "        \"customer_zip_code_prefix\",\n",
        "        how=\"Left\"\n",
        "    )\n",
        ")"
      ],
      "metadata": {
        "id": "QZvHKZ8MRuUq"
      },
      "execution_count": 31,
      "outputs": []
    },
    {
      "cell_type": "markdown",
      "source": [
        "## Salvamento dos Dados"
      ],
      "metadata": {
        "id": "xPMbzB_hVvGv"
      }
    },
    {
      "cell_type": "code",
      "source": [
        "(\n",
        "    df_customers_dataset\n",
        "    .coalesce(1)\n",
        "    .write\n",
        "    .option(\"header\", \"true\")\n",
        "    .mode(\"overwrite\")\n",
        "    .csv(\"/transformed_data/obt_customers_dataset\")\n",
        ")"
      ],
      "metadata": {
        "id": "GEwgh1f8Vwbe"
      },
      "execution_count": 33,
      "outputs": []
    }
  ]
}