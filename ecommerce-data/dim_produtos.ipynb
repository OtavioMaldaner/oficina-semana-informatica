{
 "cells": [
  {
   "cell_type": "markdown",
   "metadata": {
    "id": "sRCVPUgPCDyz"
   },
   "source": [
    "# dim_produtos\n",
    "\n",
    "Esse notebook é responsável por criar uma tabela com as informações básicas dos produtos do e-commerce.\n"
   ]
  },
  {
   "cell_type": "markdown",
   "metadata": {
    "id": "delPYogbCmhN"
   },
   "source": [
    "## Configurações Iniciais"
   ]
  },
  {
   "cell_type": "markdown",
   "metadata": {
    "id": "qUMbO9XqCouN"
   },
   "source": [
    "### Preparação do Ambiente PySpark"
   ]
  },
  {
   "cell_type": "markdown",
   "metadata": {
    "id": "pKufl5nnCsMT"
   },
   "source": [
    "#### Instalando as Dependências"
   ]
  },
  {
   "cell_type": "code",
   "execution_count": 15,
   "metadata": {
    "executionInfo": {
     "elapsed": 35425,
     "status": "ok",
     "timestamp": 1754228139757,
     "user": {
      "displayName": "Otávio Maldaner",
      "userId": "03427891421355464378"
     },
     "user_tz": 180
    },
    "id": "aN17UfVfBijw"
   },
   "outputs": [],
   "source": [
    "# Instala o Java 8\n",
    "!apt-get install openjdk-8-jdk-headless -qq > /dev/null\n",
    "\n",
    "# Baixa o Apache Spark 3.4.1 com Hadoop 3 (versão estável e recente)\n",
    "!wget -q https://archive.apache.org/dist/spark/spark-3.4.1/spark-3.4.1-bin-hadoop3.tgz\n",
    "\n",
    "# Descompacta o arquivo baixado\n",
    "!tar xf spark-3.4.1-bin-hadoop3.tgz\n",
    "\n",
    "# Instala a biblioteca findspark\n",
    "!pip install -q findspark"
   ]
  },
  {
   "cell_type": "markdown",
   "metadata": {
    "id": "0kACGaKNC3iU"
   },
   "source": [
    "#### Editando as Variáveis de Ambiente"
   ]
  },
  {
   "cell_type": "code",
   "execution_count": 16,
   "metadata": {
    "executionInfo": {
     "elapsed": 5,
     "status": "ok",
     "timestamp": 1754228139771,
     "user": {
      "displayName": "Otávio Maldaner",
      "userId": "03427891421355464378"
     },
     "user_tz": 180
    },
    "id": "DT_vi-FsCy8e"
   },
   "outputs": [],
   "source": [
    "import os\n",
    "\n",
    "# Define a variável de ambiente do Java\n",
    "os.environ[\"JAVA_HOME\"] = \"/usr/lib/jvm/java-8-openjdk-amd64\"\n",
    "\n",
    "# Define a variável de ambiente do Spark\n",
    "os.environ[\"SPARK_HOME\"] = \"/content/spark-3.4.1-bin-hadoop3\"\n",
    "\n",
    "from pyspark.sql import SparkSession\n",
    "\n",
    "# Cria a SparkSession\n",
    "spark = SparkSession.builder.master(\"local[*]\").appName(\"E-commerce Dataset\").getOrCreate()"
   ]
  },
  {
   "cell_type": "markdown",
   "metadata": {
    "id": "zwa6n7yyC_Tz"
   },
   "source": [
    "### Importando as Bibliotecas"
   ]
  },
  {
   "cell_type": "code",
   "execution_count": 17,
   "metadata": {
    "executionInfo": {
     "elapsed": 8,
     "status": "ok",
     "timestamp": 1754228139780,
     "user": {
      "displayName": "Otávio Maldaner",
      "userId": "03427891421355464378"
     },
     "user_tz": 180
    },
    "id": "NQmrmaqKC7h7"
   },
   "outputs": [],
   "source": [
    "from pyspark.sql import functions as F"
   ]
  },
  {
   "cell_type": "markdown",
   "metadata": {
    "id": "nmCwwQYkDD8g"
   },
   "source": [
    "### Carregando os Dados"
   ]
  },
  {
   "cell_type": "code",
   "execution_count": null,
   "metadata": {
    "executionInfo": {
     "elapsed": 644,
     "status": "ok",
     "timestamp": 1754228140427,
     "user": {
      "displayName": "Otávio Maldaner",
      "userId": "03427891421355464378"
     },
     "user_tz": 180
    },
    "id": "yg72ehHxDCPz"
   },
   "outputs": [],
   "source": [
    "df_products_dataset = (\n",
    "    spark.read.csv(\n",
    "        \"/content/olist_products_dataset.csv\",\n",
    "        header=True,\n",
    "        inferSchema=True\n",
    "    )\n",
    "    .withColumn(\n",
    "        \"product_category_name\",\n",
    "        F.regexp_replace(\n",
    "           F.upper(F.col(\"product_category_name\")),\n",
    "           \"_\",\n",
    "           \" \"\n",
    "       )\n",
    "    )\n",
    ")"
   ]
  },
  {
   "cell_type": "markdown",
   "metadata": {
    "id": "fLnSzYC9H5ak"
   },
   "source": [
    "## Transformação dos Dados"
   ]
  },
  {
   "cell_type": "code",
   "execution_count": null,
   "metadata": {},
   "outputs": [],
   "source": [
    "df_conversions = (\n",
    "    df_products_dataset\n",
    "    .withColumn(\n",
    "        \"product_weight_kg\",\n",
    "        F.col(\"product_weight_g\") / 1000\n",
    "    )\n",
    "    .withColumn(\n",
    "        \"product_length_m\",\n",
    "        F.col(\"product_length_cm\") / 100\n",
    "    )\n",
    "    .withColumn(\n",
    "        \"product_height_m\",\n",
    "        F.col(\"product_height_cm\") / 100\n",
    "    )\n",
    "    .withColumn(\n",
    "        \"product_width_m\",\n",
    "        F.col(\"product_width_cm\") / 100\n",
    "    )\n",
    ")"
   ]
  },
  {
   "cell_type": "code",
   "execution_count": null,
   "metadata": {
    "executionInfo": {
     "elapsed": 39,
     "status": "ok",
     "timestamp": 1754228140477,
     "user": {
      "displayName": "Otávio Maldaner",
      "userId": "03427891421355464378"
     },
     "user_tz": 180
    },
    "id": "w7x0UV2zH7fL"
   },
   "outputs": [],
   "source": [
    "df_final_products_dataset = (\n",
    "    df_conversions\n",
    "    .withColumn(\n",
    "        \"product_volume\",\n",
    "        F.col(\"product_length_m\")\n",
    "        * F.col(\"product_height_m\")\n",
    "        * F.col(\"product_width_m\")\n",
    "    )\n",
    "    .select(\n",
    "        \"product_id\",\n",
    "        \"product_category_name\",\n",
    "        \"product_weight_kg\",\n",
    "        \"product_length_m\",\n",
    "        \"product_height_m\",\n",
    "        \"product_width_m\",\n",
    "        \"product_volume\"\n",
    "    )\n",
    ")"
   ]
  },
  {
   "cell_type": "markdown",
   "metadata": {
    "id": "6lhoSC0IEBdX"
   },
   "source": [
    "## Salvamento dos Dados"
   ]
  },
  {
   "cell_type": "code",
   "execution_count": 20,
   "metadata": {
    "executionInfo": {
     "elapsed": 2600,
     "status": "ok",
     "timestamp": 1754228143079,
     "user": {
      "displayName": "Otávio Maldaner",
      "userId": "03427891421355464378"
     },
     "user_tz": 180
    },
    "id": "4h6UAsYuEDJh"
   },
   "outputs": [],
   "source": [
    "(\n",
    "    df_final_products_dataset\n",
    "    .coalesce(1)\n",
    "    .write\n",
    "    .option(\"header\", \"true\")\n",
    "    .mode(\"overwrite\")\n",
    "    .csv(\"/transformed_data/dim_produtos\")\n",
    ")"
   ]
  }
 ],
 "metadata": {
  "colab": {
   "authorship_tag": "ABX9TyPvlE2fs91c4t/mXb1BMz+d",
   "provenance": []
  },
  "kernelspec": {
   "display_name": "Python 3",
   "name": "python3"
  },
  "language_info": {
   "name": "python"
  }
 },
 "nbformat": 4,
 "nbformat_minor": 0
}
